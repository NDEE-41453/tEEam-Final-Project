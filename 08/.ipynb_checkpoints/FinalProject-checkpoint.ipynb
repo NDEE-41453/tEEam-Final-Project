{
 "cells": [
  {
   "cell_type": "markdown",
   "id": "bc35bd05",
   "metadata": {},
   "source": [
    "# Final Project - Carrier Frequency Offset (CFO) Estimation"
   ]
  },
  {
   "cell_type": "markdown",
   "id": "ef679a94",
   "metadata": {},
   "source": [
    "## Motivation\n",
    "\n",
    "On Lab 08, we used the FFT of a known preamble to estimate the Carrier Frequency Offset (CFO) in our system. The frequency offset is a small difference between the receiver and transmitter carrier frequencies that introduces distortion to our system and decreases our detection ability.\n",
    "\n",
    "The accuracy of our estimation depends on the length of the preamble and the length of the FFT we perform at the receiver. To increase accuracy, we could increase the length of the FFT to get more resolution across the entire spectrum. This method is computationally expensive, since we only care about the resolution of the FFT in a determined band (around the preak frequencies). In order to increase accuracy without sacrificing too much computation time, we can do a two step method.\n",
    "\n",
    "First, we will take a coarse FFT (with a length of around 100). This will give us an estimate on where the peak frequency is located in our band. With this frequency, we perform a Zoom FFT in the surrounding frequncies. Using this we increase the accuracy, but only on the frequency set we are interested in."
   ]
  },
  {
   "cell_type": "code",
   "execution_count": 1,
   "id": "a0786e66",
   "metadata": {},
   "outputs": [],
   "source": [
    "# Import Libraries\n",
    "import numpy as np\n",
    "from scipy import signal\n",
    "import pyfftw\n",
    "import scipy.fftpack\n",
    "import matplotlib.pyplot as plt\n",
    "import pulse_shaping\n",
    "import symbol_mod\n",
    "import time\n",
    "from scipy.signal import ZoomFFT"
   ]
  },
  {
   "cell_type": "markdown",
   "id": "719e18fa",
   "metadata": {},
   "source": [
    "### Parameters"
   ]
  },
  {
   "cell_type": "code",
   "execution_count": 2,
   "id": "c27f274f",
   "metadata": {},
   "outputs": [],
   "source": [
    "#Number of data bits\n",
    "N = 10000\n",
    "#Sampling frequency\n",
    "fs = 1000000\n",
    "Ts = 1/fs\n",
    "#Samples per symbol\n",
    "M = 8\n",
    "# Length of FFT\n",
    "full_L = 1000\n",
    "# Length of zoom\n",
    "comb_L = [100, 100]"
   ]
  },
  {
   "cell_type": "markdown",
   "id": "2c622fe8",
   "metadata": {},
   "source": [
    "### Creating the signal\n",
    "\n",
    "We will use the preamble_generator below that was used in Lab 08 to generate the preamble. It will be a sequency of 200 bits. For the signal of interest, we create a random binary signal and add the preamble to the front of it. We use QPSK modulation and root raised cosine for the modulation. This gives us our signal of interest at baseband."
   ]
  },
  {
   "cell_type": "code",
   "execution_count": 3,
   "id": "d40161c3",
   "metadata": {},
   "outputs": [],
   "source": [
    "def preamble_generator(): \n",
    "\n",
    "        preamble = np.array([1,0,1,0])\n",
    "        preamble = np.append(preamble, np.ones(6))                    \n",
    "        preamble = np.append(preamble, np.zeros(10))   \n",
    "        preamble = np.append(preamble, np.ones(180))\n",
    "        \n",
    "        return preamble"
   ]
  },
  {
   "cell_type": "code",
   "execution_count": 4,
   "id": "f14e8359",
   "metadata": {},
   "outputs": [],
   "source": [
    "# Generate ideal baseband signal\n",
    "def generate_baseband(N, fs, M):\n",
    "    Bits = np.random.randint(0,2,N)  #random data\n",
    "    preamble = preamble_generator()  \n",
    "    packet_bits = np.append(preamble, Bits)\n",
    "    preamble_length = len(preamble)\n",
    "    baseband_symbols = symbol_mod.symbol_mod(packet_bits, 'QPSK', preamble_length)\n",
    "    pulse_shape = 'rrc'\n",
    "    baseband = pulse_shaping.pulse_shaping(baseband_symbols, M, fs, pulse_shape, 0.9, 8)\n",
    "    \n",
    "    return baseband, preamble"
   ]
  },
  {
   "cell_type": "code",
   "execution_count": 5,
   "id": "924afc42",
   "metadata": {},
   "outputs": [],
   "source": [
    "baseband, preamble = generate_baseband(N, fs, M)"
   ]
  },
  {
   "cell_type": "markdown",
   "id": "57bf7c85",
   "metadata": {},
   "source": [
    "### Frequency offset generation\n",
    "\n",
    "To simulate the effects of the channel, we treat the frequency_offset as a uniform random variable from -0.01 to 0.01 of the sampling frequency. We create the offset by multiplying our signal by a complex exponential."
   ]
  },
  {
   "cell_type": "code",
   "execution_count": 21,
   "id": "c0cfdfd8",
   "metadata": {},
   "outputs": [],
   "source": [
    "def generate_baseband_offset(baseband, fs=fs):\n",
    "    # Generate the frequency offset\n",
    "    frequency_offset = np.random.uniform(-0.01*fs,0.01*fs)\n",
    "    Ts = 1/fs\n",
    "    t =  np.arange(0,len(baseband)*Ts,Ts)\n",
    "    nonideal_term = np.exp(1j*2*np.pi*frequency_offset*t)\n",
    "    baseband_with_frequency_offset = np.multiply(baseband,nonideal_term)\n",
    "    \n",
    "    return baseband_with_frequency_offset, frequency_offset"
   ]
  },
  {
   "cell_type": "code",
   "execution_count": 22,
   "id": "dd582d47",
   "metadata": {},
   "outputs": [
    {
     "name": "stdout",
     "output_type": "stream",
     "text": [
      "Frequency offset: 1678.6164528320933\n"
     ]
    }
   ],
   "source": [
    "baseband_offset, offset = generate_baseband_offset(baseband, fs)\n",
    "preamble_offset = baseband_offset[0:len(preamble)]\n",
    "\n",
    "print(\"Frequency offset:\", offset)"
   ]
  },
  {
   "cell_type": "markdown",
   "id": "4851c0b4",
   "metadata": {},
   "source": [
    "# Frequency Estimation: Full FFT and Zoom FFT"
   ]
  },
  {
   "cell_type": "markdown",
   "id": "b0e93623",
   "metadata": {},
   "source": [
    "#### Full FFT Method"
   ]
  },
  {
   "cell_type": "code",
   "execution_count": 23,
   "id": "9ea3c2c6",
   "metadata": {},
   "outputs": [],
   "source": [
    "def fft_baseband_offset(baseband, fs=fs, L=full_L):\n",
    "    # FFT\n",
    "    spectrum = np.abs(np.fft.fft(baseband, L))\n",
    "    spectrum = np.fft.fftshift(spectrum)\n",
    "    # Return max point\n",
    "    peak = np.argmax(spectrum)\n",
    "    offset = (peak - L/2)/L * fs\n",
    "    \n",
    "    return spectrum, offset"
   ]
  },
  {
   "cell_type": "code",
   "execution_count": 24,
   "id": "561f77da",
   "metadata": {
    "scrolled": false
   },
   "outputs": [
    {
     "name": "stdout",
     "output_type": "stream",
     "text": [
      "Calculated offset with full FFT: 2000.0\n"
     ]
    },
    {
     "data": {
      "image/png": "[encoded data removed]",
      "text/plain": [
       "<Figure size 432x288 with 1 Axes>"
      ]
     },
     "metadata": {
      "needs_background": "light"
     },
     "output_type": "display_data"
    }
   ],
   "source": [
    "spectrum_offset_full, offset_full = fft_baseband_offset(preamble_offset, fs, full_L)\n",
    "\n",
    "print(\"Calculated offset with full FFT:\", offset_full)\n",
    "plt.plot(np.abs(spectrum_offset_full))\n",
    "plt.show()"
   ]
  },
  {
   "cell_type": "markdown",
   "id": "219ca0aa",
   "metadata": {},
   "source": [
    "#### Combined Zoom FFT Method\n",
    "\n",
    "The combined Zoom FFT Method uses both a full FFT and a Zoom FFT. After the full FFT identifies the peak point, the Zoom FFT does a FFT around that frequency. The range of frequencies for the Zoom FFT depends on the length of the full FFT. "
   ]
  },
  {
   "cell_type": "code",
   "execution_count": 25,
   "id": "861f0b69",
   "metadata": {},
   "outputs": [],
   "source": [
    "def zoomfft_baseband_offset(baseband, fs, M, L):\n",
    "    transform = ZoomFFT(len(baseband), [-fs/(2*M), fs/(2*M)], L, fs=fs)\n",
    "    spectrum = np.abs(transform(baseband))\n",
    "    \n",
    "    peak = np.argmax(spectrum)\n",
    "    offset = (peak*fs) / ((L-1)*M) - fs/(2*M)\n",
    "    \n",
    "    return spectrum, offset\n",
    "\n",
    "def zoomfft_baseband_offset_bounds(baseband, fs, bottom, top, L):\n",
    "    transform = ZoomFFT(len(baseband), [bottom, top], L, fs=fs)\n",
    "    spectrum = np.abs(transform(baseband))\n",
    "    \n",
    "    peak = np.argmax(spectrum)\n",
    "    offset = (top - bottom)*peak/(L-1) + bottom\n",
    "    \n",
    "    return spectrum, offset"
   ]
  },
  {
   "cell_type": "code",
   "execution_count": 26,
   "id": "2fa5f6af",
   "metadata": {},
   "outputs": [],
   "source": [
    "def combined_baseband_offset(baseband, fs, L):\n",
    "    _, freq_est = fft_baseband_offset(baseband, fs, L[0])\n",
    "    spectrum_offset_zoom, offset_zoom = zoomfft_baseband_offset_bounds(baseband, fs, freq_est-(1.1)*fs/L[0], freq_est+(1.1)*fs/L[0], L[1])\n",
    "\n",
    "    return spectrum_offset_zoom, offset_zoom"
   ]
  },
  {
   "cell_type": "code",
   "execution_count": 27,
   "id": "dd8aa53d",
   "metadata": {
    "scrolled": true
   },
   "outputs": [
    {
     "name": "stdout",
     "output_type": "stream",
     "text": [
      "Calculated offset with Zoom FFT: 1888.8888888888887\n"
     ]
    },
    {
     "data": {
      "image/png": "[encoded data removed]",
      "text/plain": [
       "<Figure size 432x288 with 1 Axes>"
      ]
     },
     "metadata": {
      "needs_background": "light"
     },
     "output_type": "display_data"
    }
   ],
   "source": [
    "spectrum_offset_zoom, offset_zoom = combined_baseband_offset(preamble_offset, fs, comb_L)\n",
    "    \n",
    "print(\"Calculated offset with Zoom FFT:\", offset_zoom)\n",
    "plt.plot(np.abs(spectrum_offset_zoom))\n",
    "plt.show()"
   ]
  },
  {
   "cell_type": "markdown",
   "id": "9a04b52d",
   "metadata": {},
   "source": [
    "### Error and Execution Time"
   ]
  },
  {
   "cell_type": "code",
   "execution_count": 28,
   "id": "d0205402",
   "metadata": {},
   "outputs": [
    {
     "name": "stdout",
     "output_type": "stream",
     "text": [
      "Error from full FFT estimation: 19.145740328332984\n",
      "Error from zoom FFT estimation: 12.526532532314475\n"
     ]
    }
   ],
   "source": [
    "error_full = np.abs((offset - offset_full)*100/(offset))\n",
    "error_zoom = np.abs((offset - offset_zoom)*100/(offset))\n",
    "\n",
    "print(\"Error from full FFT estimation:\", error_full)\n",
    "print(\"Error from zoom FFT estimation:\", error_zoom)"
   ]
  },
  {
   "cell_type": "code",
   "execution_count": 29,
   "id": "7740f29d",
   "metadata": {
    "scrolled": true
   },
   "outputs": [
    {
     "name": "stdout",
     "output_type": "stream",
     "text": [
      "Error full FFT: 17.441486649277543\n",
      "Time full FFT:  0.00016402006149291993\n",
      "Error zoom FFT: 2.1981696580850527\n",
      "Time zoom FFT:  0.00034250736236572264\n"
     ]
    }
   ],
   "source": [
    "error_full = 0\n",
    "error_zoom = 0\n",
    "\n",
    "time_full = 0\n",
    "time_zoom = 0\n",
    "\n",
    "comb_len = [500, 100]\n",
    "full_len = 1000\n",
    "\n",
    "tests = 100 # Do not change this parameter\n",
    "\n",
    "\n",
    "for i in range(tests):\n",
    "    \n",
    "    baseband, preamble = generate_baseband(N, fs, M)\n",
    "    baseband_offset, offset = generate_baseband_offset(baseband, fs)\n",
    "    preamble_offset = baseband_offset[0:200]\n",
    "    \n",
    "    # Full FFT\n",
    "    start_time = time.time()\n",
    "    spectrum_offset_full, offset_full = fft_baseband_offset(preamble_offset, fs, full_len)\n",
    "    new_time_full = time.time() - start_time\n",
    "    time_full += new_time_full\n",
    "    \n",
    "    # Zoom FFT\n",
    "    start_time = time.time()\n",
    "    spectrum_offset_zoom, offset_zoom = combined_baseband_offset(preamble_offset, fs, comb_len)\n",
    "    new_time_zoom = time.time() - start_time\n",
    "    time_zoom += new_time_zoom\n",
    "    \n",
    "    # Errors\n",
    "    new_error_full = np.abs((offset - offset_full)*100/(offset))\n",
    "    error_full += new_error_full\n",
    "    new_error_zoom = np.abs((offset - offset_zoom)*100/(offset))\n",
    "    error_zoom += new_error_zoom\n",
    "\n",
    "error_full /= tests\n",
    "time_full /= tests\n",
    "error_zoom /= tests\n",
    "time_zoom /= tests\n",
    "    \n",
    "print(\"Error full FFT:\", error_full)\n",
    "print(\"Time full FFT: \", time_full)\n",
    "print(\"Error zoom FFT:\", error_zoom)\n",
    "print(\"Time zoom FFT: \", time_zoom)\n",
    "\n",
    "store_data([full_len, comb_len[0], comb_len[1], error_full, time_full, error_zoom, time_zoom])"
   ]
  },
  {
   "cell_type": "markdown",
   "id": "65014b22",
   "metadata": {},
   "source": [
    "### Appendix"
   ]
  },
  {
   "cell_type": "markdown",
   "id": "b93efe75",
   "metadata": {},
   "source": [
    "### Storing data for Error and Execution Time"
   ]
  },
  {
   "cell_type": "code",
   "execution_count": 30,
   "id": "1a25e06b",
   "metadata": {},
   "outputs": [],
   "source": [
    "def store_data(data):\n",
    "    with open(\"data.mem\", \"a\") as file:\n",
    "        data_text = \" \".join([str(i) for i in data]) + \"\\n\"\n",
    "        file.write(data_text)\n",
    "        \n",
    "def read_data():\n",
    "    with open(\"data.mem\", \"r\") as file:\n",
    "        data = file.readline()"
   ]
  },
  {
   "cell_type": "markdown",
   "id": "dd2c1b0c",
   "metadata": {},
   "source": [
    "### Characterizing full FFT"
   ]
  },
  {
   "cell_type": "code",
   "execution_count": 32,
   "id": "0d13976f",
   "metadata": {
    "scrolled": false
   },
   "outputs": [
    {
     "data": {
      "image/png": "[encoded data removed]",
      "text/plain": [
       "<Figure size 432x288 with 1 Axes>"
      ]
     },
     "metadata": {
      "needs_background": "light"
     },
     "output_type": "display_data"
    }
   ],
   "source": [
    "full_len = 10\n",
    "tests = 1000\n",
    "timing = []\n",
    "lengths = []\n",
    "\n",
    "while (full_len < 10000):\n",
    "    time_full = 0\n",
    "    for i in range(tests):\n",
    "        # Full FFT\n",
    "        start_time = time.time()\n",
    "        spectrum_offset_full, offset_full = fft_baseband_offset(preamble_offset, fs, full_len)\n",
    "        new_time_full = time.time() - start_time\n",
    "        time_full += new_time_full\n",
    "\n",
    "    time_full /= tests\n",
    "    \n",
    "    timing.append(time_full)\n",
    "    lengths.append(full_len)\n",
    "    full_len += 50\n",
    "\n",
    "plt.scatter(lengths, timing)\n",
    "plt.title(\"Execution Time for full FFT\")\n",
    "plt.xlabel(\"Length of FFT\")\n",
    "plt.ylabel(\"Execution time (s)\")\n",
    "plt.show()"
   ]
  },
  {
   "cell_type": "markdown",
   "id": "e19597b5",
   "metadata": {},
   "source": [
    "### Characterizing combined Zoom + Full FFT"
   ]
  },
  {
   "cell_type": "code",
   "execution_count": 33,
   "id": "29e9c938",
   "metadata": {},
   "outputs": [
    {
     "data": {
      "image/png": "[encoded data removed]",
      "text/plain": [
       "<Figure size 432x288 with 1 Axes>"
      ]
     },
     "metadata": {
      "needs_background": "light"
     },
     "output_type": "display_data"
    },
    {
     "data": {
      "image/png": "[encoded data removed]",
      "text/plain": [
       "<Figure size 432x288 with 1 Axes>"
      ]
     },
     "metadata": {
      "needs_background": "light"
     },
     "output_type": "display_data"
    }
   ],
   "source": [
    "comb_len = [10, 10]\n",
    "tests = 1000\n",
    "timing = []\n",
    "lengths_zoom = []\n",
    "lengths_full = []\n",
    "\n",
    "while (comb_len[0] < 5000 and comb_len[1] < 5000):\n",
    "    time_zoom = 0\n",
    "    for i in range(tests):\n",
    "        # Zoom FFT\n",
    "        start_time = time.time()\n",
    "        spectrum_offset_zoom, offset_zoom = combined_baseband_offset(preamble_offset, fs, comb_len)\n",
    "        new_time_zoom = time.time() - start_time\n",
    "        time_zoom += new_time_zoom\n",
    "\n",
    "    time_zoom /= tests\n",
    "    \n",
    "    timing.append(time_zoom)\n",
    "    lengths_full.append(comb_len[0])\n",
    "    comb_len[0] += 50\n",
    "\n",
    "plt.scatter(lengths_full, timing)\n",
    "plt.title(\"Execution Time for regular FFT in combined method\")\n",
    "plt.xlabel(\"Length of FFT\")\n",
    "plt.ylabel(\"Execution time (s)\")\n",
    "plt.show()\n",
    "    \n",
    "timing = []\n",
    "comb_len = [10, 10]\n",
    "while (comb_len[0] < 5000 and comb_len[1] < 5000):\n",
    "    time_zoom = 0\n",
    "    for i in range(tests):\n",
    "        # Zoom FFT\n",
    "        start_time = time.time()\n",
    "        spectrum_offset_zoom, offset_zoom = combined_baseband_offset(preamble_offset, fs, comb_len)\n",
    "        new_time_zoom = time.time() - start_time\n",
    "        time_zoom += new_time_zoom\n",
    "\n",
    "    time_zoom /= tests\n",
    "    \n",
    "    lengths_zoom.append(comb_len[1])\n",
    "    timing.append(time_zoom)\n",
    "    comb_len[1] += 50\n",
    "    \n",
    "plt.scatter(lengths_zoom, timing)\n",
    "plt.title(\"Execution Time for zoom FFT in combined method\")\n",
    "plt.xlabel(\"Length of zoom FFT\")\n",
    "plt.ylabel(\"Execution time (s)\")\n",
    "plt.show()"
   ]
  },
  {
   "cell_type": "code",
   "execution_count": null,
   "id": "ead3a58d",
   "metadata": {},
   "outputs": [],
   "source": [
    "import numpy as np\n",
    "import matplotlib.pyplot as plt\n",
    "from scipy import signal\n",
    "\n",
    "#Define the matched filtering module (Root-raised-cosine filters are used in the Tx and Rx side to form an overall\n",
    "#raised-cosine response). (split the filters to TX & RX side so the receiver filter could be used to attenuate out-of-band channel noise)\n",
    "#Source code for the commpy filters invoked here could be found in the following link:\n",
    "#https://pydoc.net/scikit-commpy/0.3.0/commpy.filters/\n",
    "\n",
    "\n",
    "#The pulse shaping module takes the following arguments as inputs:\n",
    "\n",
    "# baseband:                 This is the baseband signal\n",
    "\n",
    "# M:                        This is the receiver-side oversampling factor, each symbol (bit) being transmitted is represented\n",
    "#                           by M samples\n",
    "\n",
    "# fs:                       This is the input sampling rate of the ADC\n",
    "\n",
    "# alpha:                    This is the roll-off factor (valid value [0,1])\n",
    "\n",
    "# L:                        This is the length (span) of the pulse-shaping filter (in the unit of symbols)\n",
    "\n",
    "\n",
    "#The pulse shaping module returns the following argument as output:\n",
    "\n",
    "#symbols                    The symbols are the results of the matched filtering, decimated.\n",
    "\n",
    "def matched_filtering(baseband, M, fs, alpha, L):\n",
    "\n",
    "\n",
    "        #Root Raised-Cosine span: +/- 4 symbols\n",
    "        N = L*M\n",
    "\n",
    "        T_symbol = 1/(fs/M)\n",
    "\n",
    "        ##Square root raised-cosine (SRRC)\n",
    "\n",
    "        time, h = rrcosfilter(N,alpha, T_symbol, fs)\n",
    "\n",
    "##        baseband_filtered = np.convolve(baseband,h)\n",
    "##        plt.plot(baseband)\n",
    "##        plt.title('Baseband Unfiltered')\n",
    "##        plt.show()\n",
    "        \n",
    "        baseband_filtered = np.convolve(baseband,h)\n",
    "\n",
    "##        plt.plot(baseband_filtered)\n",
    "##        plt.title('Baseband Filtered')\n",
    "##        plt.show()\n",
    "\n",
    "        \n",
    "        #Downsample by a factor of M\n",
    "        baseband_filtered = baseband_filtered[4:]\n",
    "        symbols = signal.upfirdn([1],baseband_filtered,1, M)\n",
    "\n",
    "        return symbols\n",
    "\n",
    "\n",
    "def rrcosfilter(N, alpha, Ts, Fs):\n",
    "    \"\"\"\n",
    "    Generates a root raised cosine (RRC) filter (FIR) impulse response.\n",
    " \n",
    "    Parameters\n",
    "    ----------\n",
    "    N : int\n",
    "        Length of the filter in samples.\n",
    " \n",
    "    alpha : float\n",
    "        Roll off factor (Valid values are [0, 1]).\n",
    " \n",
    "    Ts : float\n",
    "        Symbol period in seconds.\n",
    " \n",
    "    Fs : float\n",
    "        Sampling Rate in Hz.\n",
    " \n",
    "    Returns\n",
    "    ---------\n",
    " \n",
    "    h_rrc : 1-D ndarray of floats\n",
    "        Impulse response of the root raised cosine filter.\n",
    " \n",
    "    time_idx : 1-D ndarray of floats\n",
    "        Array containing the time indices, in seconds, for\n",
    "        the impulse response.\n",
    "    \"\"\"\n",
    " \n",
    "    T_delta = 1/float(Fs)\n",
    "    time_idx = ((np.arange(N)-N/2))*T_delta\n",
    "    sample_num = np.arange(N)\n",
    "    h_rrc = np.zeros(N, dtype=float)\n",
    " \n",
    "    for x in sample_num:\n",
    "        t = (x-N/2)*T_delta\n",
    "        if t == 0.0:\n",
    "            h_rrc[x] = 1.0 - alpha + (4*alpha/np.pi)\n",
    "        elif alpha != 0 and t == Ts/(4*alpha):\n",
    "            h_rrc[x] = (alpha/np.sqrt(2))*(((1+2/np.pi)* \\\n",
    "                    (np.sin(np.pi/(4*alpha)))) + ((1-2/np.pi)*(np.cos(np.pi/(4*alpha)))))\n",
    "        elif alpha != 0 and t == -Ts/(4*alpha):\n",
    "            h_rrc[x] = (alpha/np.sqrt(2))*(((1+2/np.pi)* \\\n",
    "                    (np.sin(np.pi/(4*alpha)))) + ((1-2/np.pi)*(np.cos(np.pi/(4*alpha)))))\n",
    "        else:\n",
    "            h_rrc[x] = (np.sin(np.pi*t*(1-alpha)/Ts) +  \\\n",
    "                    4*alpha*(t/Ts)*np.cos(np.pi*t*(1+alpha)/Ts))/ \\\n",
    "                    (np.pi*t*(1-(4*alpha*t/Ts)*(4*alpha*t/Ts))/Ts)\n",
    " \n",
    "    return time_idx, h_rrc\n",
    "\n"
   ]
  },
  {
   "cell_type": "code",
   "execution_count": null,
   "id": "669e4734",
   "metadata": {},
   "outputs": [],
   "source": [
    "import numpy as np\n",
    "import matplotlib.pyplot as plt\n",
    "from scipy import signal\n",
    "\n",
    "#Define the pulse shaping module (Rectangular or Root-raised-cosine filters are used in the Tx and Rx side).\n",
    "#(split the filters to TX & RX side so the receiver filter could be used to attenuate out-of-band channel noise)\n",
    "#Source code for the commpy filters invoked here could be found in the following link:\n",
    "#https://pydoc.net/scikit-commpy/0.3.0/commpy.filters/\n",
    "\n",
    "\n",
    "#The pulse shaping module takes the following arguments as inputs:\n",
    "\n",
    "# a:                        Base band symbols (containing both the preamble and payload). \n",
    "\n",
    "# M:                        This is the transmitter-side oversampling factor, each symbol (bit) being transmitted is represented\n",
    "#                           by M samples\n",
    "\n",
    "# fs:                       This is the sampling rate of the DAC\n",
    "\n",
    "# pulse_shape:              \"rect\" (rectangular) or \"rrc\" (root-raised cosine)\n",
    "\n",
    "# alpha:                    This is the roll-off factor for RRC (valid value [0,1])\n",
    "\n",
    "# L:                        This is the length (span) of the pulse-shaping filter (in the unit of symbols)\n",
    "\n",
    "#The pulse shaping module returns the following argument as output:\n",
    "\n",
    "#baseband                   This is the baseband signal\n",
    "\n",
    "#filter length: make it a parameter w/ default value\n",
    "#TODO: introduce memory and make pulse shaping streaming\n",
    "def pulse_shaping(a, M, fs, pulse_shape, alpha, L):\n",
    "        \n",
    "        #Upsample by a factor of M\n",
    "        y = signal.upfirdn([1],a,M)\n",
    "        #y = np.append(y, (M-1)*[0])\n",
    "\n",
    "        if(pulse_shape == 'rrc'):\n",
    "\n",
    "                #Root Raised-Cosine span\n",
    "                N = L*M\n",
    "\n",
    "                T_symbol = 1/(fs/M)\n",
    "\n",
    "                ##Square root raised-cosine (SRRC)\n",
    "\n",
    "                time, h = rrcosfilter(N,alpha, T_symbol, fs)\n",
    "\n",
    "\n",
    "        if(pulse_shape == 'rect'):\n",
    "\n",
    "                Ts = 1/fs\n",
    "\n",
    "                #rectangular pulse\n",
    "                h = np.ones(M)\n",
    "\n",
    "        baseband = np.convolve(y,h, \"same\")\n",
    "\n",
    "\n",
    "        return baseband\n",
    "\n",
    "\n",
    "def rrcosfilter(N, alpha, Ts, Fs):\n",
    "    \"\"\"\n",
    "    Generates a root raised cosine (RRC) filter (FIR) impulse response.\n",
    " \n",
    "    Parameters\n",
    "    ----------\n",
    "    N : int\n",
    "        Length of the filter in samples.\n",
    " \n",
    "    alpha : float\n",
    "        Roll off factor (Valid values are [0, 1]).\n",
    " \n",
    "    Ts : float\n",
    "        Symbol period in seconds.\n",
    " \n",
    "    Fs : float\n",
    "        Sampling Rate in Hz.\n",
    " \n",
    "    Returns\n",
    "    ---------\n",
    " \n",
    "    h_rrc : 1-D ndarray of floats\n",
    "        Impulse response of the root raised cosine filter.\n",
    " \n",
    "    time_idx : 1-D ndarray of floats\n",
    "        Array containing the time indices, in seconds, for\n",
    "        the impulse response.\n",
    "    \"\"\"\n",
    " \n",
    "    T_delta = 1/float(Fs)\n",
    "    time_idx = ((np.arange(N)-N/2))*T_delta\n",
    "    sample_num = np.arange(N)\n",
    "    h_rrc = np.zeros(N, dtype=float)\n",
    " \n",
    "    for x in sample_num:\n",
    "        t = (x-N/2)*T_delta\n",
    "        if t == 0.0:\n",
    "            h_rrc[x] = 1.0 - alpha + (4*alpha/np.pi)\n",
    "        elif alpha != 0 and t == Ts/(4*alpha):\n",
    "            h_rrc[x] = (alpha/np.sqrt(2))*(((1+2/np.pi)* \\\n",
    "                    (np.sin(np.pi/(4*alpha)))) + ((1-2/np.pi)*(np.cos(np.pi/(4*alpha)))))\n",
    "        elif alpha != 0 and t == -Ts/(4*alpha):\n",
    "            h_rrc[x] = (alpha/np.sqrt(2))*(((1+2/np.pi)* \\\n",
    "                    (np.sin(np.pi/(4*alpha)))) + ((1-2/np.pi)*(np.cos(np.pi/(4*alpha)))))\n",
    "        else:\n",
    "            h_rrc[x] = (np.sin(np.pi*t*(1-alpha)/Ts) +  \\\n",
    "                    4*alpha*(t/Ts)*np.cos(np.pi*t*(1+alpha)/Ts))/ \\\n",
    "                    (np.pi*t*(1-(4*alpha*t/Ts)*(4*alpha*t/Ts))/Ts)\n",
    " \n",
    "    return time_idx, h_rrc\n",
    "        \n",
    "\n",
    "\n",
    "\n",
    "\n"
   ]
  },
  {
   "cell_type": "code",
   "execution_count": null,
   "id": "2f275eea",
   "metadata": {},
   "outputs": [],
   "source": [
    "import numpy as np\n",
    "import matplotlib.pyplot as plt\n",
    "from scipy import signal\n",
    "\n",
    "#Define the symbol_mod module\n",
    "\n",
    "#The symbol_mod module takes the following arguments as inputs:\n",
    "\n",
    "# packet_bits                 The bit array to be mapped into symbols (including both the preamble bits and the\n",
    "#                             payload bits)\n",
    "\n",
    "# scheme                      A string indicating which scheme is adopted (e.g.: \"OOK\", \"QPSK\")\n",
    "\n",
    "# preamble_length             Length of the preamble (in bits)\n",
    "\n",
    "#The symbol_mod function returns the following argument as output:\n",
    "\n",
    "# baseband_symbols:           The baseband symbols obtained after mapping the bits\n",
    "\n",
    "\n",
    "def symbol_mod(packet_bits, scheme, preamble_length): \n",
    "\n",
    "\n",
    "        if(scheme == 'OOK'):\n",
    "\n",
    "                preamble = packet_bits[0:preamble_length]\n",
    "                payload = packet_bits[preamble_length:len(packet_bits)]\n",
    "                preamble_symbols = 1.0*preamble\n",
    "                payload_symbols = 1.0*payload                \n",
    "                baseband_symbols = np.append(preamble_symbols,payload_symbols)\n",
    "\n",
    "        if(scheme == 'BPSK'):\n",
    "\n",
    "                preamble = packet_bits[0:preamble_length]\n",
    "                payload = packet_bits[preamble_length:len(packet_bits)]\n",
    "                preamble_symbols = 1.0*preamble \n",
    "                payload_symbols = 2.0*payload - 1.0\n",
    "                payload_symbols = 1/np.sqrt(2)*payload_symbols\n",
    "##                print(\"length of preamble: \", len(preamble_symbols))\n",
    "##                print(\"length of payload: \", len(payload_symbols))\n",
    "                baseband_symbols = np.append(preamble_symbols,payload_symbols)\n",
    "                \n",
    "\n",
    "        if(scheme == 'QPSK'):\n",
    "\n",
    "                preamble = packet_bits[0:preamble_length]\n",
    "                payload = packet_bits[preamble_length:len(packet_bits)]\n",
    "                baseband_symbols_I = 1.0*preamble\n",
    "                baseband_symbols_Q = np.zeros(preamble_length)\n",
    "\n",
    "                #Map the payload\n",
    "                I_bits = payload[0:int(len(payload)/2)]\n",
    "                Q_bits = payload[int(len(payload)/2):len(payload)]\n",
    "                I_symbols = (2.0*I_bits - 1.0)*(1/np.sqrt(2))\n",
    "                Q_symbols = (2.0*Q_bits - 1.0)*(1/np.sqrt(2))\n",
    "\n",
    "                preamble_symbols = baseband_symbols_I + 1j*baseband_symbols_Q\n",
    "                data_symbols = I_symbols + 1j* Q_symbols\n",
    "                #Scale QPSK payload to have the same per channel average signal power as OOK\n",
    "                data_symbols = 1/np.sqrt(2)*data_symbols\n",
    "                baseband_symbols = np.append(preamble_symbols, data_symbols)\n",
    "\n",
    "##                print(\"I symbols :\", I_symbols[0:10])\n",
    "##                print(\"Q symbols :\", Q_symbols[0:10])\n",
    "               \n",
    "        return baseband_symbols\n",
    "        \n",
    "        \n"
   ]
  },
  {
   "cell_type": "markdown",
   "id": "dfbe84c5",
   "metadata": {},
   "source": [
    "## Carrier Phase Estimation"
   ]
  },
  {
   "cell_type": "code",
   "execution_count": 5,
   "id": "afc6824f",
   "metadata": {},
   "outputs": [
    {
     "data": {
      "image/png": "[encoded data removed]",
      "text/plain": [
       "<Figure size 432x288 with 1 Axes>"
      ]
     },
     "metadata": {
      "needs_background": "light"
     },
     "output_type": "display_data"
    },
    {
     "data": {
      "image/png": "[encoded data removed]",
      "text/plain": [
       "<Figure size 432x288 with 1 Axes>"
      ]
     },
     "metadata": {
      "needs_background": "light"
     },
     "output_type": "display_data"
    }
   ],
   "source": [
    "#baseband, preamble = generate_baseband(N, fs, M)\n",
    "\n",
    "Bits = np.random.randint(0,2,8)  #random data\n",
    "preamble = preamble_generator()  \n",
    "packet_bits = np.append(preamble, Bits)\n",
    "preamble_length = len(preamble)\n",
    "baseband_symbols = symbol_mod.symbol_mod(packet_bits, 'QPSK', preamble_length)\n",
    "pulse_shape = 'rrc'\n",
    "baseband = pulse_shaping.pulse_shaping(baseband_symbols, M, fs, pulse_shape, 0.9, 8)\n",
    "\n",
    "\n",
    "plt.plot(np.real(baseband))\n",
    "plt.show()\n",
    "plt.plot(np.imag(baseband))\n",
    "plt.show()"
   ]
  },
  {
   "cell_type": "code",
   "execution_count": 6,
   "id": "6be36405",
   "metadata": {},
   "outputs": [
    {
     "name": "stdout",
     "output_type": "stream",
     "text": [
      "Phase offset: -2.9191504107034856\n"
     ]
    }
   ],
   "source": [
    "phase_offset = np.random.uniform(-np.pi,np.pi)\n",
    "frequency_offset = np.random.uniform(-0.01*fs,0.01*fs)\n",
    "t = np.arange(0,len(baseband)*Ts,Ts)\n",
    "\n",
    "nonideal_term = np.exp(1j*(2*np.pi*frequency_offset*t + phase_offset))\n",
    "packet_data = np.multiply(baseband,nonideal_term)\n",
    "\n",
    "print(\"Phase offset:\", phase_offset)"
   ]
  },
  {
   "cell_type": "code",
   "execution_count": 12,
   "id": "faac817e",
   "metadata": {
    "scrolled": true
   },
   "outputs": [
    {
     "name": "stdout",
     "output_type": "stream",
     "text": [
      "208\n",
      "204\n",
      "211\n",
      "422\n",
      "[1. 0. 1. 0. 0. 0. 0. 0.]\n",
      "[ 0.5-0.5j -0.5-0.5j  0.5-0.5j -0.5-0.5j]\n",
      "[ 8.05305167e+00+3.75025479e-03j  8.05808385e+00+1.17306923e-02j\n",
      "  8.08838765e+00+2.22768849e-02j  6.71812764e+00-1.35640998e+00j\n",
      "  1.13072842e+00-4.17481777e+00j -1.59685515e+00-4.06110604e+00j\n",
      "  1.57987641e+00-4.01718850e+00j -4.12152814e-01-2.64006946e-01j\n",
      " -3.95690693e-02-1.91796238e-02j -2.03143733e-02-1.03264443e-02j\n",
      " -6.04337464e-03-8.29722040e-03j]\n",
      "[1 1 1 1 1 0 1 0 0 0 0 1 1 1 1 1 1 1 1 1 1 1 1 1 1 1 1 1 1 1 1 1 1 1 1 1 1\n",
      " 1 1 1 1 1 1 1 1 1 1 1 1 1 1 1 1 1 1 1 1 1 1 1 1 1 1 1 1 1 1 1 1 1 1 1 1 1\n",
      " 1 1 1 1 1 1 1 1 1 1 1 1 1 1 1 1 1 1 1 1 1 1 1 1 1 1 1 1 1 1 1 1 1 1 1 1 1\n",
      " 1 1 1 1 1 1 1 1 1 1 1 1 1 1 1 1 1 1 1 1 1 1 1 1 1 1 1 1 1 1 1 1 1 1 1 1 1\n",
      " 1 1 1 1 1 1 1 1 1 1 1 1 1 1 1 1 1 1 1 1 1 1 1 1 1 1 1 1 1 1 1 1 1 1 1 1 1\n",
      " 1 1 1 1 1 1 1 1 1 1 1 1 1 1 1 1 1 1 1 1 1 1 1 1 1 1 1 1 1 0 0 0 0 0 0 0 0]\n"
     ]
    }
   ],
   "source": [
    "import symbol_demod\n",
    "#import matched_filtering\n",
    "\n",
    "angles = np.angle(baseband)\n",
    "\n",
    "symbols_mf = matched_filtering.matched_filtering(baseband, M, fs, 0.9, 8)\n",
    "\n",
    "#baseband_mod = [np.real(baseband_symbols), np.imag(baseband_symbols)]\n",
    "baseband_mod = [np.real(symbols_mf), np.imag(symbols_mf)]\n",
    "\n",
    "demod = symbol_demod.symbol_demod(baseband_mod, \"QPSK\", 1)\n",
    "\n",
    "print(len(packet_bits))\n",
    "print(len(baseband_symbols))\n",
    "print(len(symbols_mf))\n",
    "print(len(demod))\n",
    "\n",
    "print(packet_bits[200:])\n",
    "print(baseband_symbols[200:])\n",
    "print(symbols_mf[200:])\n",
    "print(demod[200:])\n",
    "\n",
    "count = 0\n",
    "for i in range(len(baseband_symbols)):\n",
    "    if (demod[i] != packet_bits[i]):\n",
    "        count +=1\n",
    "        "
   ]
  },
  {
   "cell_type": "code",
   "execution_count": 12,
   "id": "299ff10b",
   "metadata": {},
   "outputs": [
    {
     "ename": "NameError",
     "evalue": "name 'samples_perbit' is not defined",
     "output_type": "error",
     "traceback": [
      "\u001b[0;31m---------------------------------------------------------------------------\u001b[0m",
      "\u001b[0;31mNameError\u001b[0m                                 Traceback (most recent call last)",
      "Input \u001b[0;32mIn [12]\u001b[0m, in \u001b[0;36m<module>\u001b[0;34m\u001b[0m\n\u001b[1;32m      5\u001b[0m packet_data \u001b[38;5;241m=\u001b[39m np\u001b[38;5;241m.\u001b[39mmultiply(packet_data, Digital_LO)\n\u001b[1;32m      7\u001b[0m packet_data \u001b[38;5;241m=\u001b[39m packet_data \u001b[38;5;241m-\u001b[39m np\u001b[38;5;241m.\u001b[39mmean(packet_data[payload_start:])\n\u001b[0;32m----> 9\u001b[0m preamble \u001b[38;5;241m=\u001b[39m packet_data[\u001b[38;5;241m0\u001b[39m:\u001b[38;5;28mint\u001b[39m(preamble_length\u001b[38;5;241m*\u001b[39m\u001b[43msamples_perbit\u001b[49m)]\n\u001b[1;32m     11\u001b[0m angles \u001b[38;5;241m=\u001b[39m np\u001b[38;5;241m.\u001b[39mangle(preamble)\n\u001b[1;32m     13\u001b[0m phase_estimated \u001b[38;5;241m=\u001b[39m np\u001b[38;5;241m.\u001b[39mmean(angles)\n",
      "\u001b[0;31mNameError\u001b[0m: name 'samples_perbit' is not defined"
     ]
    }
   ],
   "source": [
    "Digital_LO = np.exp(1j*(-2*np.pi*frequency_offset*t)) # locally generated complex LO for frequency \n",
    "preamble_length = 180\n",
    "payload_start = int(preamble_length*M)\n",
    "\n",
    "packet_data = np.multiply(packet_data, Digital_LO)\n",
    "\n",
    "packet_data = packet_data - np.mean(packet_data[payload_start:])\n",
    "\n",
    "preamble = packet_data[0:int(preamble_length*samples_perbit)]\n",
    "\n",
    "angles = np.angle(preamble)\n",
    "\n",
    "phase_estimated = np.mean(angles)\n",
    "\n",
    "phase_corrected_packet = np.multiply(packet_data, np.exp(-1j*phase_estimated))\n",
    "\n",
    "print(phase_estimated)\n",
    "print(phase_offset)\n",
    "\n",
    "plt.scatter(np.real(phase_corrected_packet), np.imag(phase_corrected_packet))\n",
    "plt.show()\n",
    "\n",
    "plt.plot(np.real(packet_data[0:1700]))\n",
    "plt.title('BB I channel before frequency and phase sync')\n",
    "plt.show()\n",
    "\n",
    "plt.plot(np.real(phase_corrected_packet[0:1700]))\n",
    "plt.title('BB I channel after frequency and phase sync')\n",
    "plt.show()"
   ]
  },
  {
   "cell_type": "code",
   "execution_count": 12,
   "id": "992ca6e0",
   "metadata": {},
   "outputs": [
    {
     "name": "stdout",
     "output_type": "stream",
     "text": [
      "[1. 0. 2. 0. 3. 0. 0. 0. 0.]\n"
     ]
    }
   ],
   "source": [
    "a = [1 ,1]\n",
    "b = [2, 2]\n",
    "\n",
    "print(np.append(signal.upfirdn([1], [1, 2, 3], 2), 4*[0]))"
   ]
  },
  {
   "cell_type": "code",
   "execution_count": null,
   "id": "f74ee369",
   "metadata": {},
   "outputs": [],
   "source": []
  }
 ],
 "metadata": {
  "kernelspec": {
   "display_name": "Python 3 (ipykernel)",
   "language": "python",
   "name": "python3"
  },
  "language_info": {
   "codemirror_mode": {
    "name": "ipython",
    "version": 3
   },
   "file_extension": ".py",
   "mimetype": "text/x-python",
   "name": "python",
   "nbconvert_exporter": "python",
   "pygments_lexer": "ipython3",
   "version": "3.8.10"
  }
 },
 "nbformat": 4,
 "nbformat_minor": 5
}
