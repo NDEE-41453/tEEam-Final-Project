{
 "cells": [
  {
   "cell_type": "code",
   "execution_count": 97,
   "id": "6d4d4352",
   "metadata": {},
   "outputs": [],
   "source": [
    "# Import Libraries\n",
    "import numpy as np\n",
    "from scipy import signal\n",
    "import pyfftw\n",
    "import scipy.fftpack\n",
    "import matplotlib.pyplot as plt\n",
    "import pulse_shaping\n",
    "import symbol_mod0 2\n",
    "import time\n",
    "from scipy.signal import ZoomFFT"
   ]
  },
  {
   "cell_type": "markdown",
   "id": "2f94ee4b",
   "metadata": {},
   "source": [
    "### Parameters"
   ]
  },
  {
   "cell_type": "code",
   "execution_count": 98,
   "id": "200d7d4e",
   "metadata": {},
   "outputs": [],
   "source": [
    "#Number of data bits\n",
    "N = 10000\n",
    "#Sampling frequency\n",
    "fs = 1000000\n",
    "#Samples per symbol\n",
    "M = 8\n",
    "# Length of FFT\n",
    "full_L = 1000\n",
    "# Length of zoom\n",
    "comb_L = [100, 100]"
   ]
  },
  {
   "cell_type": "markdown",
   "id": "fbbba5d6",
   "metadata": {},
   "source": [
    "### Creating the signal"
   ]
  },
  {
   "cell_type": "code",
   "execution_count": 99,
   "id": "466d7551",
   "metadata": {},
   "outputs": [],
   "source": [
    "def preamble_generator(): \n",
    "\n",
    "        preamble = np.array([1,0,1,0])\n",
    "        preamble = np.append(preamble, np.ones(6))                    \n",
    "        preamble = np.append(preamble, np.zeros(10))   \n",
    "        preamble = np.append(preamble, np.ones(180))\n",
    "        \n",
    "        return preamble"
   ]
  },
  {
   "cell_type": "code",
   "execution_count": 100,
   "id": "b0ba2032",
   "metadata": {},
   "outputs": [],
   "source": [
    "# Generate ideal baseband signal\n",
    "def generate_baseband(N, fs, M):\n",
    "    Bits = np.random.randint(0,2,N)  #random data\n",
    "    preamble = preamble_generator()  \n",
    "    packet_bits = np.append(preamble, Bits)\n",
    "    preamble_length = len(preamble)\n",
    "    baseband_symbols = symbol_mod.symbol_mod(packet_bits, 'QPSK', preamble_length)\n",
    "    pulse_shape = 'rrc'\n",
    "    baseband = pulse_shaping.pulse_shaping(baseband_symbols, M, fs, pulse_shape, 0.9, 8)\n",
    "    \n",
    "    return baseband, preamble"
   ]
  },
  {
   "cell_type": "code",
   "execution_count": 101,
   "id": "aefaeb7d",
   "metadata": {},
   "outputs": [],
   "source": [
    "baseband, preamble = generate_baseband(N, fs, M)"
   ]
  },
  {
   "cell_type": "markdown",
   "id": "a7dd0fcd",
   "metadata": {},
   "source": [
    "### Frequency offset generation"
   ]
  },
  {
   "cell_type": "code",
   "execution_count": 102,
   "id": "bcc44870",
   "metadata": {},
   "outputs": [],
   "source": [
    "def generate_baseband_offset(baseband, fs=fs):\n",
    "    # Generate the frequency offset\n",
    "    frequency_offset = np.random.uniform(-0.01*fs,0.01*fs)\n",
    "    Ts = 1/fs\n",
    "    t =  np.arange(0,len(baseband)*Ts,Ts)\n",
    "    nonideal_term = np.exp(1j*2*np.pi*frequency_offset*t)\n",
    "    baseband_with_frequency_offset = np.multiply(baseband,nonideal_term)\n",
    "    \n",
    "    return baseband_with_frequency_offset, frequency_offset"
   ]
  },
  {
   "cell_type": "code",
   "execution_count": 103,
   "id": "d800fdad",
   "metadata": {},
   "outputs": [
    {
     "name": "stdout",
     "output_type": "stream",
     "text": [
      "Frequency offset: 6237.622736892421\n"
     ]
    }
   ],
   "source": [
    "baseband_offset, offset = generate_baseband_offset(baseband, fs)\n",
    "preamble_offset = baseband_offset[0:len(preamble)]\n",
    "\n",
    "print(\"Frequency offset:\", offset)"
   ]
  },
  {
   "cell_type": "markdown",
   "id": "c05a66d9",
   "metadata": {},
   "source": [
    "# Frequency Estimation: Full FFT and Zoom FFT"
   ]
  },
  {
   "cell_type": "markdown",
   "id": "9795369f",
   "metadata": {},
   "source": [
    "#### Full FFT Method"
   ]
  },
  {
   "cell_type": "code",
   "execution_count": 104,
   "id": "2dcf80a9",
   "metadata": {},
   "outputs": [],
   "source": [
    "def fft_baseband_offset(baseband, fs=fs, L=full_L):\n",
    "    # FFT\n",
    "    spectrum = abs(np.fft.fft(baseband, L))\n",
    "    spectrum = np.fft.fftshift(spectrum)\n",
    "    # Return max point\n",
    "    peak = np.argmax(spectrum)\n",
    "    offset = (peak - L/2)/L * fs\n",
    "    \n",
    "    return spectrum, offset"
   ]
  },
  {
   "cell_type": "code",
   "execution_count": 105,
   "id": "ca4958dc",
   "metadata": {},
   "outputs": [
    {
     "name": "stdout",
     "output_type": "stream",
     "text": [
      "Calculated offset with full FFT: 6000.0\n"
     ]
    },
    {
     "data": {
      "image/png": "[encoded data removed]",
      "text/plain": [
       "<Figure size 432x288 with 1 Axes>"
      ]
     },
     "metadata": {
      "needs_background": "light"
     },
     "output_type": "display_data"
    }
   ],
   "source": [
    "spectrum_offset_full, offset_full = fft_baseband_offset(preamble_offset, fs, full_L)\n",
    "\n",
    "print(\"Calculated offset with full FFT:\", offset_full)\n",
    "plt.plot(np.abs(spectrum_offset_full))\n",
    "plt.show()"
   ]
  },
  {
   "cell_type": "markdown",
   "id": "697d1b69",
   "metadata": {},
   "source": [
    "#### Combined Zoom FFT Method"
   ]
  },
  {
   "cell_type": "code",
   "execution_count": 106,
   "id": "fb526cb4",
   "metadata": {},
   "outputs": [],
   "source": [
    "def zoomfft_baseband_offset(baseband, fs, M, L):\n",
    "    transform = ZoomFFT(len(baseband), [-fs/(2*M), fs/(2*M)], L, fs=fs)\n",
    "    spectrum = np.abs(transform(baseband))\n",
    "    \n",
    "    peak = np.argmax(spectrum)\n",
    "    offset = (peak*fs) / ((L-1)*M) - fs/(2*M)\n",
    "    \n",
    "    return spectrum, offset\n",
    "\n",
    "def zoomfft_baseband_offset_bounds(baseband, fs, bottom, top, L):\n",
    "    transform = ZoomFFT(len(baseband), [bottom, top], L, fs=fs)\n",
    "    spectrum = np.abs(transform(baseband))\n",
    "    \n",
    "    peak = np.argmax(spectrum)\n",
    "    offset = (top - bottom)*peak/(L-1) + bottom\n",
    "    \n",
    "    return spectrum, offset"
   ]
  },
  {
   "cell_type": "code",
   "execution_count": 107,
   "id": "3a08184b",
   "metadata": {},
   "outputs": [],
   "source": [
    "def combined_baseband_offset(baseband, fs, L):\n",
    "    _, freq_est = fft_baseband_offset(baseband, fs, L[0])\n",
    "    spectrum_offset_zoom, offset_zoom = zoomfft_baseband_offset_bounds(baseband, fs, freq_est-(1.1)*fs/L[0], freq_est+(1.1)*fs/L[0], L[1])\n",
    "\n",
    "    return spectrum_offset_zoom, offset_zoom"
   ]
  },
  {
   "cell_type": "code",
   "execution_count": 108,
   "id": "8d1fc5b5",
   "metadata": {
    "scrolled": true
   },
   "outputs": [
    {
     "name": "stdout",
     "output_type": "stream",
     "text": [
      "Calculated offset with Zoom FFT: 6333.333333333333\n"
     ]
    },
    {
     "data": {
      "image/png": "[encoded data removed]",
      "text/plain": [
       "<Figure size 432x288 with 1 Axes>"
      ]
     },
     "metadata": {
      "needs_background": "light"
     },
     "output_type": "display_data"
    }
   ],
   "source": [
    "spectrum_offset_zoom, offset_zoom = combined_baseband_offset(preamble_offset, fs, comb_L)\n",
    "    \n",
    "print(\"Calculated offset with Zoom FFT:\", offset_zoom)\n",
    "plt.plot(np.abs(spectrum_offset_zoom))\n",
    "plt.show()"
   ]
  },
  {
   "cell_type": "markdown",
   "id": "19d5e493",
   "metadata": {},
   "source": [
    "### Error and Execution Time"
   ]
  },
  {
   "cell_type": "code",
   "execution_count": 109,
   "id": "175a9061",
   "metadata": {},
   "outputs": [
    {
     "name": "stdout",
     "output_type": "stream",
     "text": [
      "Error from full FFT estimation: 3.8095079955220967\n",
      "Error from zoom FFT estimation: 1.534408226948893\n"
     ]
    }
   ],
   "source": [
    "error_full = np.abs((offset - offset_full)*100/(offset))\n",
    "error_zoom = np.abs((offset - offset_zoom)*100/(offset))\n",
    "\n",
    "print(\"Error from full FFT estimation:\", error_full)\n",
    "print(\"Error from zoom FFT estimation:\", error_zoom)"
   ]
  },
  {
   "cell_type": "code",
   "execution_count": 174,
   "id": "8899276c",
   "metadata": {},
   "outputs": [
    {
     "name": "stdout",
     "output_type": "stream",
     "text": [
      "Error full FFT: 10.735539255679923\n",
      "Time full FFT:  0.00013462543487548827\n",
      "Error zoom FFT: 1.6286682221838453\n",
      "Time zoom FFT:  0.0002990889549255371\n"
     ]
    }
   ],
   "source": [
    "error_full = 0\n",
    "error_zoom = 0\n",
    "\n",
    "time_full = 0\n",
    "time_zoom = 0\n",
    "\n",
    "comb_len = [500, 100]\n",
    "full_len = 1000\n",
    "\n",
    "tests = 100 # Do not change this parameter\n",
    "\n",
    "\n",
    "for i in range(tests):\n",
    "    \n",
    "    baseband, preamble = generate_baseband(N, fs, M)\n",
    "    baseband_offset, offset = generate_baseband_offset(baseband, fs)\n",
    "    preamble_offset = baseband_offset[0:200]\n",
    "    \n",
    "    # Full FFT\n",
    "    start_time = time.time()\n",
    "    spectrum_offset_full, offset_full = fft_baseband_offset(preamble_offset, fs, full_len)\n",
    "    new_time_full = time.time() - start_time\n",
    "    time_full += new_time_full\n",
    "    \n",
    "    # Zoom FFT\n",
    "    start_time = time.time()\n",
    "    spectrum_offset_zoom, offset_zoom = combined_baseband_offset(preamble_offset, fs, comb_len)\n",
    "    new_time_zoom = time.time() - start_time\n",
    "    time_zoom += new_time_zoom\n",
    "    \n",
    "    # Errors\n",
    "    new_error_full = np.abs((offset - offset_full)*100/(offset))\n",
    "    error_full += new_error_full\n",
    "    new_error_zoom = np.abs((offset - offset_zoom)*100/(offset))\n",
    "    error_zoom += new_error_zoom\n",
    "\n",
    "error_full /= tests\n",
    "time_full /= tests\n",
    "error_zoom /= tests\n",
    "time_zoom /= tests\n",
    "    \n",
    "print(\"Error full FFT:\", error_full)\n",
    "print(\"Time full FFT: \", time_full)\n",
    "print(\"Error zoom FFT:\", error_zoom)\n",
    "print(\"Time zoom FFT: \", time_zoom)\n",
    "\n",
    "store_data([full_len, comb_len[0], comb_len[1], error_full, time_full, error_zoom, time_zoom])"
   ]
  },
  {
   "cell_type": "markdown",
   "id": "d03f4b6e",
   "metadata": {},
   "source": [
    "### Appendix"
   ]
  },
  {
   "cell_type": "markdown",
   "id": "1d94ea8c",
   "metadata": {},
   "source": [
    "### Storing data for Error and Execution Time"
   ]
  },
  {
   "cell_type": "code",
   "execution_count": 135,
   "id": "109eeaa2",
   "metadata": {},
   "outputs": [],
   "source": [
    "def store_data(data):\n",
    "    with open(\"data.mem\", \"a\") as file:\n",
    "        data_text = \" \".join([str(i) for i in data]) + \"\\n\"\n",
    "        file.write(data_text)\n",
    "        \n",
    "def read_data():\n",
    "    with open(\"data.mem\", \"r\") as file:\n",
    "        data = file.readline()"
   ]
  },
  {
   "cell_type": "markdown",
   "id": "812ffec4",
   "metadata": {},
   "source": [
    "### Characterizing full FFT"
   ]
  },
  {
   "cell_type": "code",
   "execution_count": 151,
   "id": "79a1d3cb",
   "metadata": {},
   "outputs": [
    {
     "data": {
      "image/png": "[encoded data removed]",
      "text/plain": [
       "<Figure size 432x288 with 1 Axes>"
      ]
     },
     "metadata": {
      "needs_background": "light"
     },
     "output_type": "display_data"
    }
   ],
   "source": [
    "full_len = 10\n",
    "tests = 1000\n",
    "timing = []\n",
    "lengths = []\n",
    "\n",
    "while (full_len < 10000):\n",
    "    time_full = 0\n",
    "    for i in range(tests):\n",
    "        # Full FFT\n",
    "        start_time = time.time()\n",
    "        spectrum_offset_full, offset_full = fft_baseband_offset(preamble_offset, fs, full_len)\n",
    "        new_time_full = time.time() - start_time\n",
    "        time_full += new_time_full\n",
    "\n",
    "    time_full /= tests\n",
    "    \n",
    "    timing.append(time_full)\n",
    "    lengths.append(full_len)\n",
    "    full_len += 50\n",
    "    \n",
    "\n",
    "plt.scatter(lengths, timing)\n",
    "plt.show()"
   ]
  },
  {
   "cell_type": "markdown",
   "id": "226ed392",
   "metadata": {},
   "source": [
    "### Characterizing combined Zoom + Full FFT"
   ]
  },
  {
   "cell_type": "code",
   "execution_count": 161,
   "id": "5e4e650d",
   "metadata": {},
   "outputs": [
    {
     "data": {
      "image/png": "[encoded data removed]",
      "text/plain": [
       "<Figure size 432x288 with 1 Axes>"
      ]
     },
     "metadata": {
      "needs_background": "light"
     },
     "output_type": "display_data"
    },
    {
     "data": {
      "image/png": "[encoded data removed]",
      "text/plain": [
       "<Figure size 432x288 with 1 Axes>"
      ]
     },
     "metadata": {
      "needs_background": "light"
     },
     "output_type": "display_data"
    }
   ],
   "source": [
    "comb_len = [10, 10]\n",
    "tests = 1000\n",
    "timing = []\n",
    "lengths_zoom = []\n",
    "lengths_full = []\n",
    "\n",
    "while (comb_len[0] < 5000 and comb_len[1] < 5000):\n",
    "    time_zoom = 0\n",
    "    for i in range(tests):\n",
    "        # Zoom FFT\n",
    "        start_time = time.time()\n",
    "        spectrum_offset_zoom, offset_zoom = combined_baseband_offset(preamble_offset, fs, comb_len)\n",
    "        new_time_zoom = time.time() - start_time\n",
    "        time_zoom += new_time_zoom\n",
    "\n",
    "    time_zoom /= tests\n",
    "    \n",
    "    timing.append(time_zoom)\n",
    "    lengths_full.append(comb_len[0])\n",
    "    comb_len[0] += 50\n",
    "\n",
    "plt.scatter(lengths_full, timing)\n",
    "plt.show()\n",
    "    \n",
    "timing = []\n",
    "comb_len = [10, 10]\n",
    "while (comb_len[0] < 5000 and comb_len[1] < 5000):\n",
    "    time_zoom = 0\n",
    "    for i in range(tests):\n",
    "        # Zoom FFT\n",
    "        start_time = time.time()\n",
    "        spectrum_offset_zoom, offset_zoom = combined_baseband_offset(preamble_offset, fs, comb_len)\n",
    "        new_time_zoom = time.time() - start_time\n",
    "        time_zoom += new_time_zoom\n",
    "\n",
    "    time_zoom /= tests\n",
    "    \n",
    "    lengths_zoom.append(comb_len[1])\n",
    "    timing.append(time_zoom)\n",
    "    comb_len[1] += 50\n",
    "    \n",
    "    \n",
    "\n",
    "\n",
    "plt.scatter(lengths_zoom, timing)\n",
    "plt.show()"
   ]
  },
  {
   "cell_type": "code",
   "execution_count": null,
   "id": "348c2bf9",
   "metadata": {},
   "outputs": [],
   "source": []
  }
 ],
 "metadata": {
  "kernelspec": {
   "display_name": "Python 3 (ipykernel)",
   "language": "python",
   "name": "python3"
  },
  "language_info": {
   "codemirror_mode": {
    "name": "ipython",
    "version": 3
   },
   "file_extension": ".py",
   "mimetype": "text/x-python",
   "name": "python",
   "nbconvert_exporter": "python",
   "pygments_lexer": "ipython3",
   "version": "3.8.10"
  }
 },
 "nbformat": 4,
 "nbformat_minor": 5
}
